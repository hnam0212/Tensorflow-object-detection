{
 "cells": [
  {
   "cell_type": "code",
   "execution_count": 2,
   "id": "5d748bb0",
   "metadata": {},
   "outputs": [
    {
     "name": "stdout",
     "output_type": "stream",
     "text": [
      "Collecting opencv-python\n",
      "  Downloading opencv_python-4.5.4.60-cp39-cp39-win_amd64.whl (35.1 MB)\n",
      "Collecting numpy>=1.19.3\n",
      "  Using cached numpy-1.21.4-cp39-cp39-win_amd64.whl (14.0 MB)\n",
      "Installing collected packages: numpy, opencv-python\n",
      "Successfully installed numpy-1.21.4 opencv-python-4.5.4.60\n"
     ]
    }
   ],
   "source": [
    "!pip install opencv-python\n"
   ]
  },
  {
   "cell_type": "code",
   "execution_count": 1,
   "id": "29a18efd",
   "metadata": {},
   "outputs": [],
   "source": [
    "import os\n",
    "\n",
    "import uuid\n",
    "\n",
    "import cv2\n",
    "\n",
    "import time"
   ]
  },
  {
   "cell_type": "code",
   "execution_count": 2,
   "id": "fd2105e6",
   "metadata": {},
   "outputs": [],
   "source": [
    "labels = ['thumbsup', 'thumbsdown', 'thankyou', 'livelong']\n",
    "number_imgs = 5"
   ]
  },
  {
   "cell_type": "code",
   "execution_count": 30,
   "id": "7949acae",
   "metadata": {},
   "outputs": [
    {
     "name": "stdout",
     "output_type": "stream",
     "text": [
      "D:\\learning stuff\\Tensorflow Object Detection\n"
     ]
    }
   ],
   "source": [
    "print(os.getcwd())"
   ]
  },
  {
   "cell_type": "code",
   "execution_count": 9,
   "id": "7202e34a",
   "metadata": {
    "scrolled": true
   },
   "outputs": [
    {
     "name": "stdout",
     "output_type": "stream",
     "text": [
      "Tensorflow\\workspace\\images\\collectedimages\n"
     ]
    }
   ],
   "source": [
    "IMAGES_PATH = os.path.join('Tensorflow', 'workspace', 'images', 'collectedimages')\n",
    "print(IMAGES_PATH)"
   ]
  },
  {
   "cell_type": "code",
   "execution_count": 9,
   "id": "8cc3f1fb",
   "metadata": {},
   "outputs": [],
   "source": [
    "if not os.path.exists(IMAGES_PATH):\n",
    "    if os.name == 'posix':\n",
    "        !mkdir -p {IMAGES_PATH}\n",
    "    if os.name == 'nt':\n",
    "        !mkdir {IMAGES_PATH}\n",
    "for label in labels :\n",
    "    path = os.path.join(IMAGES_PATH,label)\n",
    "    if not os.path.exists(path):\n",
    "        !mkdir {path}"
   ]
  },
  {
   "cell_type": "code",
   "execution_count": 17,
   "id": "f8eecd54",
   "metadata": {},
   "outputs": [
    {
     "name": "stdout",
     "output_type": "stream",
     "text": [
      "Collecting Images for label thankyou\n",
      "Collecting images number 0 for label thankyou\n",
      "Collecting images number 1 for label thankyou\n",
      "Collecting images number 2 for label thankyou\n",
      "Collecting images number 3 for label thankyou\n",
      "Collecting images number 4 for label thankyou\n",
      "Collecting images number 5 for label thankyou\n",
      "Collecting images number 6 for label thankyou\n",
      "Collecting images number 7 for label thankyou\n"
     ]
    }
   ],
   "source": [
    "for label in labels:\n",
    "    cap = cv2.VideoCapture(0)\n",
    "    print(f'Collecting Images for label {label}')\n",
    "    time.sleep(5)\n",
    "    for num in range(number_imgs):\n",
    "        print(f'Collecting images number {num} for label {label}')\n",
    "        ret,frame =cap.read()\n",
    "        imgname = os.path.join(IMAGES_PATH,label,label+'.'+'{}.jpg'.format(str(uuid.uuid1())))\n",
    "        cv2.imwrite(imgname,frame)\n",
    "        cv2.imshow('frame',frame)\n",
    "        time.sleep(1)\n",
    "        \n",
    "        if cv2.waitKey(1) & 0xff == ord('q'):\n",
    "            break\n",
    "cap.release()\n",
    "cv2.destroyAllWindows()\n",
    "        "
   ]
  },
  {
   "cell_type": "code",
   "execution_count": 20,
   "id": "6900b1ba",
   "metadata": {},
   "outputs": [
    {
     "name": "stdout",
     "output_type": "stream",
     "text": [
      "Requirement already satisfied: pyqt5 in d:\\learning stuff\\tensorflow object detection\\tfod\\lib\\site-packages (5.15.6)\n",
      "Requirement already satisfied: lxml in d:\\learning stuff\\tensorflow object detection\\tfod\\lib\\site-packages (4.6.4)\n",
      "Requirement already satisfied: PyQt5-Qt5>=5.15.2 in d:\\learning stuff\\tensorflow object detection\\tfod\\lib\\site-packages (from pyqt5) (5.15.2)\n",
      "Requirement already satisfied: PyQt5-sip<13,>=12.8 in d:\\learning stuff\\tensorflow object detection\\tfod\\lib\\site-packages (from pyqt5) (12.9.0)\n"
     ]
    }
   ],
   "source": [
    "!pip install --upgrade pyqt5 lxml\n"
   ]
  },
  {
   "cell_type": "code",
   "execution_count": 21,
   "id": "c93e1b23",
   "metadata": {},
   "outputs": [],
   "source": [
    "LABELIMG_PATH = os.path.join('Tensorflow', 'labelimg')"
   ]
  },
  {
   "cell_type": "code",
   "execution_count": 22,
   "id": "3bef9371",
   "metadata": {},
   "outputs": [],
   "source": [
    "if not os.path.exists(LABELIMG_PATH):\n",
    "    !mkdir {LABELIMG_PATH}\n",
    "    !git clone https://github.com/tzutalin/labelImg {LABELIMG_PATH}"
   ]
  },
  {
   "cell_type": "code",
   "execution_count": 23,
   "id": "1472028e",
   "metadata": {},
   "outputs": [],
   "source": [
    "if os.name == 'posix':\n",
    "    !make qt5py3\n",
    "if os.name =='nt':\n",
    "    !cd {LABELIMG_PATH} && pyrcc5 -o libs/resources.py resources.qrc"
   ]
  },
  {
   "cell_type": "code",
   "execution_count": 24,
   "id": "22f4492f",
   "metadata": {},
   "outputs": [],
   "source": [
    "!cd {LABELIMG_PATH} && python labelImg.py\n"
   ]
  },
  {
   "cell_type": "code",
   "execution_count": 26,
   "id": "09b01d51",
   "metadata": {
    "scrolled": true
   },
   "outputs": [
    {
     "name": "stdout",
     "output_type": "stream",
     "text": [
      "Tensorflow\\workspace\\images\\archive.tar.gz\n",
      "Tensorflow\\workspace\\images\\train\n",
      "Tensorflow\\workspace\\images\\test\n"
     ]
    }
   ],
   "source": [
    "TRAIN_PATH = os.path.join('Tensorflow','workspace', 'images', 'train')\n",
    "TEST_PATH = os.path.join('Tensorflow','workspace', 'images', 'test')\n",
    "ARCHIVE_PATH = os.path.join('Tensorflow','workspace', 'images', 'archive.tar.gz')\n",
    "PATH=[TRAIN_PATH,TEST_PATH]\n",
    "print(ARCHIVE_PATH)\n",
    "print(TRAIN_PATH)\n",
    "print(TEST_PATH)"
   ]
  },
  {
   "cell_type": "code",
   "execution_count": 21,
   "id": "a55a5d87",
   "metadata": {},
   "outputs": [
    {
     "name": "stdout",
     "output_type": "stream",
     "text": [
      "GNU `tar' saves many files together into a single tape or disk archive, and\n",
      "can restore individual files from the archive.\n",
      "\n",
      "Usage: tar [OPTION]... [FILE]...\n",
      "\n",
      "Examples:\n",
      "  tar -cf archive.tar foo bar  # Create archive.tar from files foo and bar.\n",
      "  tar -tvf archive.tar         # List all files in archive.tar verbosely.\n",
      "  tar -xf archive.tar          # Extract all files from archive.tar.\n",
      "\n",
      "If a long option shows an argument as mandatory, then it is mandatory\n",
      "for the equivalent short option also.  Similarly for optional arguments.\n",
      "\n",
      "Main operation mode:\n",
      "  -t, --list              list the contents of an archive\n",
      "  -x, --extract, --get    extract files from an archive\n",
      "  -c, --create            create a new archive\n",
      "  -d, --diff, --compare   find differences between archive and file system\n",
      "  -r, --append            append files to the end of an archive\n",
      "  -u, --update            only append files newer than copy in archive\n",
      "  -A, --catenate          append tar files to an archive\n",
      "      --concatenate       same as -A\n",
      "      --delete            delete from the archive (not on mag tapes!)\n",
      "\n",
      "Operation modifiers:\n",
      "  -W, --verify               attempt to verify the archive after writing it\n",
      "      --remove-files         remove files after adding them to the archive\n",
      "  -k, --keep-old-files       don't replace existing files when extracting\n",
      "      --overwrite            overwrite existing files when extracting\n",
      "  -U, --unlink-first         remove each file prior to extracting over it\n",
      "      --recursive-unlink     empty hierarchies prior to extracting directory\n",
      "  -S, --sparse               handle sparse files efficiently\n",
      "  -O, --to-stdout            extract files to standard output\n",
      "  -G, --incremental          handle old GNU-format incremental backup\n",
      "  -g, --listed-incremental=FILE\n",
      "                             handle new GNU-format incremental backup\n",
      "      --ignore-failed-read   do not exit with nonzero on unreadable files\n",
      "\n",
      "Handling of file attributes:\n",
      "      --owner=NAME             force NAME as owner for added files\n",
      "      --group=NAME             force NAME as group for added files\n",
      "      --mode=CHANGES           force (symbolic) mode CHANGES for added files\n",
      "      --atime-preserve         don't change access times on dumped files\n",
      "  -m, --modification-time      don't extract file modified time\n",
      "      --same-owner             try extracting files with the same ownership\n",
      "      --no-same-owner          extract files as yourself\n",
      "      --numeric-owner          always use numbers for user/group names\n",
      "  -p, --same-permissions       extract permissions information\n",
      "      --no-same-permissions    do not extract permissions information\n",
      "      --preserve-permissions   same as -p\n",
      "  -s, --same-order             sort names to extract to match archive\n",
      "      --preserve-order         same as -s\n",
      "      --preserve               same as both -p and -s\n",
      "\n",
      "Device selection and switching:\n",
      "  -f, --file=ARCHIVE             use archive file or device ARCHIVE\n",
      "      --force-local              archive file is local even if has a colon\n",
      "      --rsh-command=COMMAND      use remote COMMAND instead of rsh\n",
      "  -[0-7][lmh]                    specify drive and density\n",
      "  -M, --multi-volume             create/list/extract multi-volume archive\n",
      "  -L, --tape-length=NUM          change tape after writing NUM x 1024 bytes\n",
      "  -F, --info-script=FILE         run script at end of each tape (implies -M)\n",
      "      --new-volume-script=FILE   same as -F FILE\n",
      "      --volno-file=FILE          use/update the volume number in FILE\n",
      "\n",
      "Device blocking:\n",
      "  -b, --blocking-factor=BLOCKS   BLOCKS x 512 bytes per record\n",
      "      --record-size=SIZE         SIZE bytes per record, multiple of 512\n",
      "  -i, --ignore-zeros             ignore zeroed blocks in archive (means EOF)\n",
      "  -B, --read-full-records        reblock as we read (for 4.2BSD pipes)\n",
      "\n",
      "Archive format selection:\n",
      "  -V, --label=NAME                   create archive with volume name NAME\n",
      "              PATTERN                at list/extract time, a globbing PATTERN\n",
      "  -o, --old-archive, --portability   write a V7 format archive\n",
      "      --posix                        write a POSIX format archive\n",
      "  -j, --bzip2                        filter the archive through bzip2\n",
      "  -z, --gzip, --ungzip               filter the archive through gzip\n",
      "  -Z, --compress, --uncompress       filter the archive through compress\n",
      "      --use-compress-program=PROG    filter through PROG (must accept -d)\n",
      "\n",
      "Local file selection:\n",
      "  -C, --directory=DIR          change to directory DIR\n",
      "  -T, --files-from=NAME        get names to extract or create from file NAME\n",
      "      --null                   -T reads null-terminated names, disable -C\n",
      "      --exclude=PATTERN        exclude files, given as a globbing PATTERN\n",
      "  -X, --exclude-from=FILE      exclude globbing patterns listed in FILE\n",
      "  -P, --absolute-names         don't strip leading `/'s from file names\n",
      "  -h, --dereference            dump instead the files symlinks point to\n",
      "      --no-recursion           avoid descending automatically in directories\n",
      "  -l, --one-file-system        stay in local file system when creating archive\n",
      "  -K, --starting-file=NAME     begin at file NAME in the archive\n",
      "  -N, --newer=DATE             only store files newer than DATE\n",
      "      --newer-mtime            compare date and time when data changed only\n",
      "      --after-date=DATE        same as -N\n",
      "      --backup[=CONTROL]       backup before removal, choose version control\n",
      "      --suffix=SUFFIX          backup before removal, override usual suffix\n",
      "\n",
      "Informative output:\n",
      "      --help            print this help, then exit\n",
      "      --version         print tar program version number, then exit\n",
      "  -v, --verbose         verbosely list files processed\n",
      "      --checkpoint      print directory names while reading the archive\n",
      "      --totals          print total bytes written while creating archive\n",
      "  -R, --block-number    show block number within archive with each message\n",
      "  -w, --interactive     ask for confirmation for every action\n",
      "      --confirmation    same as -w\n",
      "\n",
      "The backup suffix is `~', unless set with --suffix or SIMPLE_BACKUP_SUFFIX.\n",
      "The version control may be set with --backup or VERSION_CONTROL, values are:\n",
      "\n",
      "  t, numbered     make numbered backups\n",
      "  nil, existing   numbered if numbered backups exist, simple otherwise\n",
      "  never, simple   always make simple backups\n",
      "\n",
      "GNU tar cannot read nor produce `--posix' archives.  If POSIXLY_CORRECT\n",
      "is set in the environment, GNU extensions are disallowed with `--posix'.\n",
      "Support for POSIX is only partially implemented, don't count on it yet.\n",
      "ARCHIVE may be FILE, HOST:FILE or USER@HOST:FILE; and FILE may be a file\n",
      "or a device.  *This* `tar' defaults to `-f- -b20'.\n",
      "\n",
      "Report bugs to <bug-tar@gnu.org>.\n"
     ]
    }
   ],
   "source": [
    "!tar --help\n",
    "\n"
   ]
  },
  {
   "cell_type": "code",
   "execution_count": 1,
   "id": "7d2bb25d",
   "metadata": {},
   "outputs": [
    {
     "name": "stderr",
     "output_type": "stream",
     "text": [
      "      0 [main] tar 13432 sync_with_child: child 16992(0x1B0) died before initialization with status code 0xC0000142\n",
      "     11 [main] tar 13432 sync_with_child: *** child state waiting for longjmp\n",
      "tar: child process: Cannot fork: Resource temporarily unavailable\n",
      "tar: Error is not recoverable: exiting now\n"
     ]
    }
   ],
   "source": [
    "!tar -czf {ARCHIVE_PATH} {TRAIN_PATH} {TEST_PATH}"
   ]
  },
  {
   "cell_type": "code",
   "execution_count": null,
   "id": "644b496f",
   "metadata": {},
   "outputs": [],
   "source": []
  },
  {
   "cell_type": "code",
   "execution_count": null,
   "id": "b1a2227a",
   "metadata": {},
   "outputs": [],
   "source": []
  },
  {
   "cell_type": "code",
   "execution_count": null,
   "id": "e9a6ddc2",
   "metadata": {},
   "outputs": [],
   "source": []
  }
 ],
 "metadata": {
  "kernelspec": {
   "display_name": "tfod",
   "language": "python",
   "name": "tfod"
  },
  "language_info": {
   "codemirror_mode": {
    "name": "ipython",
    "version": 3
   },
   "file_extension": ".py",
   "mimetype": "text/x-python",
   "name": "python",
   "nbconvert_exporter": "python",
   "pygments_lexer": "ipython3",
   "version": "3.9.7"
  }
 },
 "nbformat": 4,
 "nbformat_minor": 5
}
